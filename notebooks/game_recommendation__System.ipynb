{
  "cells": [
    {
      "cell_type": "markdown",
      "metadata": {
        "id": "ZmsA598o9j5e"
      },
      "source": [
        "#Steam Game Recommended Project"
      ]
    },
    {
      "cell_type": "code",
      "execution_count": 2,
      "metadata": {
        "id": "SpGn1Q7q91Uw"
      },
      "outputs": [],
      "source": [
        "#Imports Library\n",
        "import pandas as pd\n",
        "import numpy as np\n",
        "import os\n",
        "import pickle"
      ]
    },
    {
      "cell_type": "code",
      "execution_count": 39,
      "metadata": {
        "id": "rpk3y3gIbrQg"
      },
      "outputs": [],
      "source": [
        "# os.environ['KAGGLE_CONFIG_DIR']='/workspaces/codespaces-jupyter/key'"
      ]
    },
    {
      "cell_type": "code",
      "execution_count": 40,
      "metadata": {
        "colab": {
          "base_uri": "https://localhost:8080/"
        },
        "id": "KUu9gTSBaKdV",
        "outputId": "6e102ed6-a1df-4b00-96fc-606cff3a9208"
      },
      "outputs": [],
      "source": [
        "# !kaggle datasets download -d fronkongames/steam-games-dataset"
      ]
    },
    {
      "cell_type": "code",
      "execution_count": 41,
      "metadata": {
        "id": "DiHH0nKzdqhD"
      },
      "outputs": [],
      "source": [
        "# !unzip /workspaces/codespaces-jupyter/notebooks/steam-games-dataset.zip -d game"
      ]
    },
    {
      "cell_type": "code",
      "execution_count": 3,
      "metadata": {
        "id": "akJb1cgb-GGt"
      },
      "outputs": [],
      "source": [
        "games_data=pd.read_csv(\"D:\\\\Resys_Games\\\\Steam-Game-Recommendation-System\\\\notebooks\\\\game.csv\")"
      ]
    },
    {
      "cell_type": "code",
      "execution_count": 4,
      "metadata": {},
      "outputs": [],
      "source": [
        "games_data=games_data[['AppID','Name','About the game','Categories','Genres','Tags']]"
      ]
    },
    {
      "cell_type": "code",
      "execution_count": null,
      "metadata": {},
      "outputs": [],
      "source": [
        "pickle.dump(games_data,open('game_data.pkl','wb')) #lưu lại"
      ]
    },
    {
      "cell_type": "code",
      "execution_count": 6,
      "metadata": {},
      "outputs": [],
      "source": [
        "# games_data.isnull().sum()"
      ]
    },
    {
      "cell_type": "code",
      "execution_count": 7,
      "metadata": {},
      "outputs": [],
      "source": [
        "# games_data['Release date']=games_data['Release date'].astype(dtype='datetime64')"
      ]
    },
    {
      "cell_type": "code",
      "execution_count": 8,
      "metadata": {},
      "outputs": [],
      "source": [
        "# games_data.sort_values(by='Release date',ascending=False,inplace=True) "
      ]
    },
    {
      "cell_type": "code",
      "execution_count": 9,
      "metadata": {},
      "outputs": [],
      "source": [
        "# pure_data=games_data[['AppID','Name','About the game','Categories','Genres','Tags','Header image']].dropna()"
      ]
    },
    {
      "cell_type": "code",
      "execution_count": 49,
      "metadata": {},
      "outputs": [],
      "source": [
        "# pure_data"
      ]
    },
    {
      "cell_type": "code",
      "execution_count": 50,
      "metadata": {},
      "outputs": [],
      "source": [
        "# games_data=pure_data[['AppID','Name','About the game','Categories','Genres','Tags']]"
      ]
    },
    {
      "cell_type": "code",
      "execution_count": 51,
      "metadata": {},
      "outputs": [],
      "source": [
        "# image_data=pure_data[['AppID','Header image']]"
      ]
    },
    {
      "cell_type": "code",
      "execution_count": 52,
      "metadata": {},
      "outputs": [],
      "source": [
        "# games_data"
      ]
    },
    {
      "cell_type": "code",
      "execution_count": 53,
      "metadata": {},
      "outputs": [],
      "source": [
        "# iamge_data.isnull().sum()"
      ]
    },
    {
      "cell_type": "code",
      "execution_count": 54,
      "metadata": {},
      "outputs": [],
      "source": [
        "# games_data.isnull().sum()"
      ]
    },
    {
      "cell_type": "code",
      "execution_count": 55,
      "metadata": {},
      "outputs": [],
      "source": [
        "# pure_data.isnull().sum()"
      ]
    },
    {
      "cell_type": "code",
      "execution_count": 56,
      "metadata": {},
      "outputs": [],
      "source": [
        "# index = pd.Index(range(0, 58514 , 1))\n",
        "# pure_data = pure_data.set_index(index)"
      ]
    },
    {
      "cell_type": "code",
      "execution_count": 57,
      "metadata": {},
      "outputs": [],
      "source": [
        "# pure_data"
      ]
    },
    {
      "cell_type": "code",
      "execution_count": 58,
      "metadata": {},
      "outputs": [],
      "source": [
        "# games_data=pure_data[['AppID','Name','About the game','Categories','Genres','Tags']]"
      ]
    },
    {
      "cell_type": "code",
      "execution_count": 59,
      "metadata": {},
      "outputs": [],
      "source": [
        "# games_data"
      ]
    },
    {
      "cell_type": "code",
      "execution_count": 60,
      "metadata": {},
      "outputs": [],
      "source": [
        "# image_data=pure_data[['AppID','Header image']]"
      ]
    },
    {
      "cell_type": "code",
      "execution_count": 61,
      "metadata": {},
      "outputs": [],
      "source": [
        "# image_data"
      ]
    },
    {
      "cell_type": "code",
      "execution_count": 62,
      "metadata": {},
      "outputs": [],
      "source": [
        "# games_data=games_data[0:18560]\n",
        "# image_data=image_data[0:18560]"
      ]
    },
    {
      "cell_type": "code",
      "execution_count": 63,
      "metadata": {},
      "outputs": [],
      "source": [
        "# games_data"
      ]
    },
    {
      "cell_type": "code",
      "execution_count": 64,
      "metadata": {},
      "outputs": [],
      "source": [
        "# image_data.to_csv('image_data.csv')"
      ]
    },
    {
      "cell_type": "code",
      "execution_count": 65,
      "metadata": {},
      "outputs": [],
      "source": [
        "# image_data.to_pickle(open('image_data','wb'))"
      ]
    },
    {
      "cell_type": "code",
      "execution_count": 66,
      "metadata": {},
      "outputs": [],
      "source": [
        "# games_data.to_csv('game.csv')"
      ]
    },
    {
      "cell_type": "code",
      "execution_count": 67,
      "metadata": {
        "colab": {
          "base_uri": "https://localhost:8080/"
        },
        "id": "AowWgn5IAESn",
        "outputId": "445f078b-7412-4188-b344-91731260a142"
      },
      "outputs": [],
      "source": [
        "# games_data.info()"
      ]
    },
    {
      "cell_type": "markdown",
      "metadata": {
        "id": "JWeHgrNLC3t0"
      },
      "source": [
        "#Column i need for recommends games to play\n",
        "- AppID\n",
        "- Name\n",
        "- About the game\n",
        "- Publishers\n",
        "- Categories                      \n",
        "- Genres                          \n",
        "- Tags"
      ]
    },
    {
      "cell_type": "code",
      "execution_count": 10,
      "metadata": {
        "id": "faVP6GptlgBz"
      },
      "outputs": [],
      "source": [
        "new_games_data=pd.DataFrame(games_data)"
      ]
    },
    {
      "cell_type": "code",
      "execution_count": 69,
      "metadata": {
        "colab": {
          "base_uri": "https://localhost:8080/"
        },
        "id": "uk2lrxO-Gsay",
        "outputId": "8e50b82e-0394-4215-eb5a-619d027b33fd"
      },
      "outputs": [],
      "source": [
        "# new_games_data.isnull().sum()"
      ]
    },
    {
      "cell_type": "code",
      "execution_count": 70,
      "metadata": {
        "colab": {
          "base_uri": "https://localhost:8080/"
        },
        "id": "Ts3vs0DnlL7i",
        "outputId": "9a35b09e-9461-46dd-9abf-c7e5eb834f26"
      },
      "outputs": [],
      "source": [
        "# new_games_data.shape"
      ]
    },
    {
      "cell_type": "code",
      "execution_count": 11,
      "metadata": {
        "colab": {
          "base_uri": "https://localhost:8080/"
        },
        "id": "jd7k__TjfdBV",
        "outputId": "22e0ca0d-7e63-4fe6-868f-8e8ea11f6e16"
      },
      "outputs": [],
      "source": [
        "new_games_data['Genres']=new_games_data['Genres'].apply(lambda x:x.split())"
      ]
    },
    {
      "cell_type": "code",
      "execution_count": 12,
      "metadata": {
        "colab": {
          "base_uri": "https://localhost:8080/"
        },
        "id": "Nml0yFyZnhQk",
        "outputId": "3a7eae0c-80ea-4395-c0c8-8502b18222d2"
      },
      "outputs": [],
      "source": [
        "new_games_data['Categories']=new_games_data['Categories'].apply(lambda x:x.split())"
      ]
    },
    {
      "cell_type": "code",
      "execution_count": 13,
      "metadata": {
        "colab": {
          "base_uri": "https://localhost:8080/"
        },
        "id": "KAuyamN7nnSR",
        "outputId": "104c4cec-c079-4ca3-dfed-332703fb2084"
      },
      "outputs": [],
      "source": [
        "new_games_data['Tags']=new_games_data['Tags'].apply(lambda x:x.split())"
      ]
    },
    {
      "cell_type": "code",
      "execution_count": 14,
      "metadata": {
        "colab": {
          "base_uri": "https://localhost:8080/"
        },
        "id": "y82QBlJ2ns1g",
        "outputId": "31e6ce47-c65b-43ba-e93c-eedf1210cb4f"
      },
      "outputs": [],
      "source": [
        "new_games_data['About the game']=new_games_data['About the game'].apply(lambda x:x.split())"
      ]
    },
    {
      "cell_type": "code",
      "execution_count": 15,
      "metadata": {
        "colab": {
          "base_uri": "https://localhost:8080/"
        },
        "id": "RSH874zBrXjE",
        "outputId": "f20c20bc-45ce-455e-a366-1da23534f17d"
      },
      "outputs": [],
      "source": [
        "new_games_data['Categories']=new_games_data['Categories'].apply(lambda x:[i.replace(\" \",\"\") for i in x])"
      ]
    },
    {
      "cell_type": "code",
      "execution_count": 16,
      "metadata": {
        "colab": {
          "base_uri": "https://localhost:8080/"
        },
        "id": "0qz0kzeRrnJW",
        "outputId": "aba7e86c-d78f-4e48-9cac-0fa0219704e1"
      },
      "outputs": [],
      "source": [
        "new_games_data['Genres']=new_games_data['Genres'].apply(lambda x:[i.replace(\" \",\"\") for i in x])"
      ]
    },
    {
      "cell_type": "code",
      "execution_count": 17,
      "metadata": {
        "colab": {
          "base_uri": "https://localhost:8080/"
        },
        "id": "umtKTqpDryn9",
        "outputId": "30ee9f44-a06f-4102-9d22-09032804dd49"
      },
      "outputs": [],
      "source": [
        "new_games_data['Tags']=new_games_data['Tags'].apply(lambda x:[i.replace(\" \",\"\") for i in x])"
      ]
    },
    {
      "cell_type": "code",
      "execution_count": 78,
      "metadata": {
        "colab": {
          "base_uri": "https://localhost:8080/"
        },
        "id": "atPloyIjrRuX",
        "outputId": "a9d554fd-e0bb-432e-aa0c-4a4898c6b2e0"
      },
      "outputs": [],
      "source": [
        "# new_games_data['About the game'][0]"
      ]
    },
    {
      "cell_type": "code",
      "execution_count": 79,
      "metadata": {
        "colab": {
          "base_uri": "https://localhost:8080/",
          "height": 1000
        },
        "id": "WDlcXy8wsPiz",
        "outputId": "74d1fb58-55e1-411a-f417-db94892bf5d3"
      },
      "outputs": [],
      "source": [
        "# new_games_data"
      ]
    },
    {
      "cell_type": "code",
      "execution_count": 18,
      "metadata": {
        "colab": {
          "base_uri": "https://localhost:8080/"
        },
        "id": "2UIGrb9ln0Iw",
        "outputId": "43f33d21-101a-43f3-ae3e-27b80cbd60b4"
      },
      "outputs": [],
      "source": [
        "new_games_data['tags']=new_games_data['About the game'] + new_games_data['Categories'] + new_games_data['Genres'] + new_games_data['Tags']"
      ]
    },
    {
      "cell_type": "code",
      "execution_count": 19,
      "metadata": {
        "id": "TBhKmldBtZuB"
      },
      "outputs": [],
      "source": [
        "new_df=new_games_data[['AppID','Name','tags']]"
      ]
    },
    {
      "cell_type": "code",
      "execution_count": 20,
      "metadata": {
        "colab": {
          "base_uri": "https://localhost:8080/"
        },
        "id": "sL36lRa5tzfh",
        "outputId": "846d6f83-afe5-4fe9-fdd5-a00a163dc62a"
      },
      "outputs": [
        {
          "name": "stderr",
          "output_type": "stream",
          "text": [
            "C:\\Users\\Windows\\AppData\\Local\\Temp\\ipykernel_23508\\487797088.py:1: SettingWithCopyWarning: \n",
            "A value is trying to be set on a copy of a slice from a DataFrame.\n",
            "Try using .loc[row_indexer,col_indexer] = value instead\n",
            "\n",
            "See the caveats in the documentation: https://pandas.pydata.org/pandas-docs/stable/user_guide/indexing.html#returning-a-view-versus-a-copy\n",
            "  new_df['tags']=new_df['tags'].apply(lambda x:\" \".join(x))\n"
          ]
        }
      ],
      "source": [
        "new_df['tags']=new_df['tags'].apply(lambda x:\" \".join(x))"
      ]
    },
    {
      "cell_type": "code",
      "execution_count": 21,
      "metadata": {
        "colab": {
          "base_uri": "https://localhost:8080/"
        },
        "id": "le6jK0dXNpAd",
        "outputId": "4e7d7674-f348-4a19-f314-30b44634567c"
      },
      "outputs": [
        {
          "name": "stderr",
          "output_type": "stream",
          "text": [
            "C:\\Users\\Windows\\AppData\\Local\\Temp\\ipykernel_23508\\4224080999.py:1: SettingWithCopyWarning: \n",
            "A value is trying to be set on a copy of a slice from a DataFrame.\n",
            "Try using .loc[row_indexer,col_indexer] = value instead\n",
            "\n",
            "See the caveats in the documentation: https://pandas.pydata.org/pandas-docs/stable/user_guide/indexing.html#returning-a-view-versus-a-copy\n",
            "  new_df['tags']=new_df['tags'].apply(lambda x:x.lower())\n"
          ]
        }
      ],
      "source": [
        "new_df['tags']=new_df['tags'].apply(lambda x:x.lower())"
      ]
    },
    {
      "cell_type": "code",
      "execution_count": 85,
      "metadata": {
        "colab": {
          "base_uri": "https://localhost:8080/",
          "height": 468
        },
        "id": "OH50oJ04uq1e",
        "outputId": "9cb8b088-910a-498e-c69f-c27952763321"
      },
      "outputs": [],
      "source": [
        "# new_df"
      ]
    },
    {
      "cell_type": "code",
      "execution_count": null,
      "metadata": {
        "id": "Lz7bkdg8zxrH"
      },
      "outputs": [],
      "source": [
        "from nltk.stem.porter import PorterStemmer \n",
        "ps= PorterStemmer()"
      ]
    },
    {
      "cell_type": "code",
      "execution_count": 28,
      "metadata": {
        "id": "EGWnK_My0IWT"
      },
      "outputs": [],
      "source": [
        "def stem(text):\n",
        "  y=[]\n",
        "  for i in text.split():\n",
        "    y.append(ps.stem(i))\n",
        "  return \" \".join(y)"
      ]
    },
    {
      "cell_type": "code",
      "execution_count": null,
      "metadata": {
        "id": "oXRr7tYy15A5"
      },
      "outputs": [],
      "source": [
        "new_df['tags']=new_df['tags'].apply(stem)"
      ]
    },
    {
      "cell_type": "code",
      "execution_count": 30,
      "metadata": {
        "id": "ukvCEC4hyLRp"
      },
      "outputs": [],
      "source": [
        "from sklearn.feature_extraction.text import CountVectorizer"
      ]
    },
    {
      "cell_type": "code",
      "execution_count": 31,
      "metadata": {
        "id": "ig4476IXyVcC"
      },
      "outputs": [],
      "source": [
        "cv=CountVectorizer(max_features=5000,stop_words='english')"
      ]
    },
    {
      "cell_type": "code",
      "execution_count": 32,
      "metadata": {
        "id": "3FrXQQlwyawY"
      },
      "outputs": [],
      "source": [
        "vactors=cv.fit_transform(new_df['tags']).toarray()"
      ]
    },
    {
      "cell_type": "code",
      "execution_count": 33,
      "metadata": {
        "id": "ggsKFtGxy2hU"
      },
      "outputs": [],
      "source": [
        "# cv.get_feature_names_out()"
      ]
    },
    {
      "cell_type": "code",
      "execution_count": 34,
      "metadata": {
        "id": "0RT2377GziM7"
      },
      "outputs": [],
      "source": [
        "from sklearn.metrics.pairwise import cosine_similarity"
      ]
    },
    {
      "cell_type": "code",
      "execution_count": 35,
      "metadata": {
        "id": "hPfXv2Iz9CRF"
      },
      "outputs": [],
      "source": [
        "similarity=cosine_similarity(vactors)"
      ]
    },
    {
      "cell_type": "code",
      "execution_count": 38,
      "metadata": {
        "id": "2Nn8cqHf9NED"
      },
      "outputs": [],
      "source": [
        "def recommend(game):\n",
        "    index = new_df[new_df['Name'] == game].index[0]\n",
        "    distances = sorted(list(enumerate(similarity[index])),reverse=True,key = lambda x: x[1])\n",
        "    for i in distances[1:13]:\n",
        "        print(new_df.iloc[i[0]].Name)"
      ]
    },
    {
      "cell_type": "code",
      "execution_count": 39,
      "metadata": {},
      "outputs": [
        {
          "name": "stdout",
          "output_type": "stream",
          "text": [
            "Uber Destruction\n",
            "Techno Tanks\n",
            "Gnomancer\n",
            "Gunfire Reborn\n",
            "Crab Champions\n",
            "Last Shape Standing\n",
            "Devil Should Die\n",
            "Alcyon Infinity\n",
            "Guns N' Boxes\n",
            "No Captain Allowed!\n",
            "AI Olympius\n",
            "Roomli\n"
          ]
        }
      ],
      "source": [
        "recommend('Greedland')"
      ]
    },
    {
      "cell_type": "code",
      "execution_count": 99,
      "metadata": {},
      "outputs": [],
      "source": [
        "pickle.dump(similarity,open('similarity.pkl','wb'))"
      ]
    },
    {
      "cell_type": "code",
      "execution_count": null,
      "metadata": {},
      "outputs": [],
      "source": []
    }
  ],
  "metadata": {
    "colab": {
      "provenance": []
    },
    "kernelspec": {
      "display_name": "Python 3",
      "name": "python3"
    },
    "language_info": {
      "codemirror_mode": {
        "name": "ipython",
        "version": 3
      },
      "file_extension": ".py",
      "mimetype": "text/x-python",
      "name": "python",
      "nbconvert_exporter": "python",
      "pygments_lexer": "ipython3",
      "version": "3.13.3"
    }
  },
  "nbformat": 4,
  "nbformat_minor": 0
}
